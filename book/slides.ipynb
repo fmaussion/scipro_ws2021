{
 "cells": [
  {
   "cell_type": "markdown",
   "metadata": {},
   "source": [
    "# Presentation slides"
   ]
  },
  {
   "cell_type": "markdown",
   "metadata": {},
   "source": [
    "I won't do many \"formal\" presentations during the lectures. When I'll do, I'll provide links to the presentation's slides here.\n",
    "\n",
    "The slides are prepared with [reveal.js](https://revealjs.com). Use `space` and `shift+space` to navigate back and forth between slides, and use `esc` to get an overview of all slides."
   ]
  },
  {
   "cell_type": "markdown",
   "metadata": {},
   "source": [
    "- **Week 01**: [Welcome](https://fabienmaussion.info/scipro_w01)"
   ]
  }
 ],
 "metadata": {
  "kernelspec": {
   "display_name": "Python 3",
   "language": "python",
   "name": "python3"
  },
  "language_info": {
   "codemirror_mode": {
    "name": "ipython",
    "version": 3
   },
   "file_extension": ".py",
   "mimetype": "text/x-python",
   "name": "python",
   "nbconvert_exporter": "python",
   "pygments_lexer": "ipython3",
   "version": "3.8.5"
  }
 },
 "nbformat": 4,
 "nbformat_minor": 4
}
